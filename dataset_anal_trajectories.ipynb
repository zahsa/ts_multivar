{
 "cells": [
  {
   "cell_type": "code",
   "execution_count": null,
   "id": "ed3d06a8",
   "metadata": {},
   "outputs": [],
   "source": [
    "import os\n",
    "import pickle\n",
    "import numpy as np\n",
    "import pandas as pd\n",
    "from sklearn.neighbors import KernelDensity\n",
    "from sklearn.metrics import confusion_matrix, ConfusionMatrixDisplay\n",
    "from sklearn.metrics import precision_score\n",
    "from sklearn.metrics import recall_score\n",
    "from sklearn.metrics import f1_score"
   ]
  },
  {
   "cell_type": "code",
   "execution_count": null,
   "id": "918508d2",
   "metadata": {},
   "outputs": [],
   "source": []
  },
  {
   "cell_type": "code",
   "execution_count": 20,
   "id": "866bf666",
   "metadata": {},
   "outputs": [],
   "source": [
    "dataset = pd.read_csv('/data/DCAIS_vessels_Classes[30, 37, 80, 60]_None-mmsi_01-04_to_30-04_trips.csv', parse_dates=['time'])\n",
    "\n",
    "dataset['time'] = dataset['time'].astype('datetime64[ns]')\n",
    "\n"
   ]
  },
  {
   "cell_type": "code",
   "execution_count": 26,
   "id": "76b44275",
   "metadata": {},
   "outputs": [],
   "source": [
    "dataset = dataset.sort_values(by=['trajectory', \"time\"])"
   ]
  },
  {
   "cell_type": "code",
   "execution_count": 35,
   "id": "82284634",
   "metadata": {
    "scrolled": true
   },
   "outputs": [
    {
     "name": "stdout",
     "output_type": "stream",
     "text": [
      "length of each trajectory -- each trajectory is corresponding to a different vessel\n"
     ]
    },
    {
     "data": {
      "text/plain": [
       "trajectory\n",
       "0        9071\n",
       "1        1281\n",
       "2         923\n",
       "3        1296\n",
       "4       14120\n",
       "        ...  \n",
       "7666     2885\n",
       "7667     1490\n",
       "7668     9198\n",
       "7669     3004\n",
       "7670     1952\n",
       "Name: cog, Length: 7671, dtype: int64"
      ]
     },
     "execution_count": 35,
     "metadata": {},
     "output_type": "execute_result"
    }
   ],
   "source": [
    "traj_length = dataset.groupby('trajectory').count()['cog']\n",
    "print('length of each trajectory -- each trajectory is corresponding to a different vessel')\n",
    "traj_length"
   ]
  },
  {
   "cell_type": "code",
   "execution_count": 55,
   "id": "dea4a7e4",
   "metadata": {},
   "outputs": [
    {
     "data": {
      "text/plain": [
       "<AxesSubplot:xlabel='trajectory'>"
      ]
     },
     "execution_count": 55,
     "metadata": {},
     "output_type": "execute_result"
    },
    {
     "data": {
      "image/png": "[encoded data removed]",
      "text/plain": [
       "<Figure size 432x288 with 1 Axes>"
      ]
     },
     "metadata": {
      "needs_background": "light"
     },
     "output_type": "display_data"
    }
   ],
   "source": [
    "ax = traj_length.plot.bar()\n",
    "ax.set_ylabel(\"length of each trajectory in the whole dataset\")"
   ]
  },
  {
   "cell_type": "code",
   "execution_count": 36,
   "id": "253b0b6c",
   "metadata": {
    "scrolled": true
   },
   "outputs": [
    {
     "name": "stdout",
     "output_type": "stream",
     "text": [
      "number of samples from each vessel type\n"
     ]
    },
    {
     "data": {
      "text/plain": [
       "vessel_type\n",
       "30    10690479\n",
       "37    23838624\n",
       "60    10816917\n",
       "80     3636571\n",
       "Name: cog, dtype: int64"
      ]
     },
     "execution_count": 36,
     "metadata": {},
     "output_type": "execute_result"
    }
   ],
   "source": [
    "print('number of samples from each vessel type')\n",
    "vessel_type_nsample = dataset.groupby('vessel_type').count()['cog']\n",
    "vessel_type_nsample"
   ]
  },
  {
   "cell_type": "code",
   "execution_count": 54,
   "id": "a0cb4c83",
   "metadata": {},
   "outputs": [
    {
     "data": {
      "text/plain": [
       "Text(0, 0.5, 'sum of length of trajectories')"
      ]
     },
     "execution_count": 54,
     "metadata": {},
     "output_type": "execute_result"
    },
    {
     "data": {
      "image/png": "[encoded data removed]",
      "text/plain": [
       "<Figure size 432x288 with 1 Axes>"
      ]
     },
     "metadata": {
      "needs_background": "light"
     },
     "output_type": "display_data"
    }
   ],
   "source": [
    "ax = vessel_type_nsample.plot.bar()\n",
    "ax.set_ylabel(\"sum of length of trajectories\")"
   ]
  },
  {
   "cell_type": "code",
   "execution_count": 48,
   "id": "0e99fb4c",
   "metadata": {},
   "outputs": [
    {
     "name": "stdout",
     "output_type": "stream",
     "text": [
      "number of trajectories for each vessel type\n"
     ]
    },
    {
     "data": {
      "text/plain": [
       "vessel_type\n",
       "30    1499\n",
       "37    4752\n",
       "60     898\n",
       "80     522\n",
       "Name: trajectory, dtype: int64"
      ]
     },
     "execution_count": 48,
     "metadata": {},
     "output_type": "execute_result"
    }
   ],
   "source": [
    "print('number of trajectories for each vessel type')\n",
    "vessel_trajectories = dataset.groupby('vessel_type')['trajectory'].nunique()\n",
    "vessel_trajectories"
   ]
  },
  {
   "cell_type": "code",
   "execution_count": 53,
   "id": "900d71a3",
   "metadata": {},
   "outputs": [
    {
     "data": {
      "text/plain": [
       "Text(0, 0.5, 'number of unique vessels')"
      ]
     },
     "execution_count": 53,
     "metadata": {},
     "output_type": "execute_result"
    },
    {
     "data": {
      "image/png": "[encoded data removed]",
      "text/plain": [
       "<Figure size 432x288 with 1 Axes>"
      ]
     },
     "metadata": {
      "needs_background": "light"
     },
     "output_type": "display_data"
    }
   ],
   "source": [
    "ax = vessel_trajectories.plot.bar()\n",
    "# ax.set_xlabel(\"x label\")\n",
    "ax.set_ylabel(\"number of unique vessels\")"
   ]
  },
  {
   "cell_type": "code",
   "execution_count": null,
   "id": "6fe145f0",
   "metadata": {},
   "outputs": [],
   "source": [
    "data = create_data(time_steps = 300, dataset_size = 1199)\n"
   ]
  },
  {
   "cell_type": "code",
   "execution_count": null,
   "id": "cc300845",
   "metadata": {},
   "outputs": [],
   "source": [
    "data.read_data(ds_name = '4class')"
   ]
  },
  {
   "cell_type": "code",
   "execution_count": 9,
   "id": "1b13f70a",
   "metadata": {
    "scrolled": true
   },
   "outputs": [],
   "source": []
  },
  {
   "cell_type": "code",
   "execution_count": 14,
   "id": "884cca39",
   "metadata": {
    "scrolled": true
   },
   "outputs": [],
   "source": [
    "df = dataset.sort_values(by=['trajectory', \"time\"])"
   ]
  },
  {
   "cell_type": "code",
   "execution_count": 15,
   "id": "b4c72fcf",
   "metadata": {
    "scrolled": true
   },
   "outputs": [
    {
     "data": {
      "text/html": [
       "<div>\n",
       "<style scoped>\n",
       "    .dataframe tbody tr th:only-of-type {\n",
       "        vertical-align: middle;\n",
       "    }\n",
       "\n",
       "    .dataframe tbody tr th {\n",
       "        vertical-align: top;\n",
       "    }\n",
       "\n",
       "    .dataframe thead th {\n",
       "        text-align: right;\n",
       "    }\n",
       "</style>\n",
       "<table border=\"1\" class=\"dataframe\">\n",
       "  <thead>\n",
       "    <tr style=\"text-align: right;\">\n",
       "      <th></th>\n",
       "      <th>trajectory</th>\n",
       "      <th>mmsi</th>\n",
       "      <th>time</th>\n",
       "      <th>lat</th>\n",
       "      <th>lon</th>\n",
       "      <th>sog</th>\n",
       "      <th>cog</th>\n",
       "      <th>vessel_type</th>\n",
       "      <th>flag</th>\n",
       "      <th>duration</th>\n",
       "      <th>total_time</th>\n",
       "    </tr>\n",
       "  </thead>\n",
       "  <tbody>\n",
       "    <tr>\n",
       "      <th>0</th>\n",
       "      <td>0</td>\n",
       "      <td>0</td>\n",
       "      <td>2020-04-01 00:16:56</td>\n",
       "      <td>18.4595</td>\n",
       "      <td>-66.0902</td>\n",
       "      <td>0.0</td>\n",
       "      <td>6.0</td>\n",
       "      <td>30</td>\n",
       "      <td>0</td>\n",
       "      <td>0.0</td>\n",
       "      <td>719.626111</td>\n",
       "    </tr>\n",
       "    <tr>\n",
       "      <th>1</th>\n",
       "      <td>0</td>\n",
       "      <td>0</td>\n",
       "      <td>2020-04-01 00:22:55</td>\n",
       "      <td>18.4595</td>\n",
       "      <td>-66.0902</td>\n",
       "      <td>0.1</td>\n",
       "      <td>188.0</td>\n",
       "      <td>30</td>\n",
       "      <td>0</td>\n",
       "      <td>359.0</td>\n",
       "      <td>719.626111</td>\n",
       "    </tr>\n",
       "    <tr>\n",
       "      <th>2</th>\n",
       "      <td>0</td>\n",
       "      <td>0</td>\n",
       "      <td>2020-04-01 00:28:55</td>\n",
       "      <td>18.4595</td>\n",
       "      <td>-66.0901</td>\n",
       "      <td>0.0</td>\n",
       "      <td>323.2</td>\n",
       "      <td>30</td>\n",
       "      <td>0</td>\n",
       "      <td>360.0</td>\n",
       "      <td>719.626111</td>\n",
       "    </tr>\n",
       "    <tr>\n",
       "      <th>3</th>\n",
       "      <td>0</td>\n",
       "      <td>0</td>\n",
       "      <td>2020-04-01 00:34:56</td>\n",
       "      <td>18.4595</td>\n",
       "      <td>-66.0901</td>\n",
       "      <td>0.0</td>\n",
       "      <td>229.2</td>\n",
       "      <td>30</td>\n",
       "      <td>0</td>\n",
       "      <td>361.0</td>\n",
       "      <td>719.626111</td>\n",
       "    </tr>\n",
       "    <tr>\n",
       "      <th>4</th>\n",
       "      <td>0</td>\n",
       "      <td>0</td>\n",
       "      <td>2020-04-01 00:46:56</td>\n",
       "      <td>18.4595</td>\n",
       "      <td>-66.0901</td>\n",
       "      <td>0.0</td>\n",
       "      <td>108.6</td>\n",
       "      <td>30</td>\n",
       "      <td>0</td>\n",
       "      <td>720.0</td>\n",
       "      <td>719.626111</td>\n",
       "    </tr>\n",
       "    <tr>\n",
       "      <th>...</th>\n",
       "      <td>...</td>\n",
       "      <td>...</td>\n",
       "      <td>...</td>\n",
       "      <td>...</td>\n",
       "      <td>...</td>\n",
       "      <td>...</td>\n",
       "      <td>...</td>\n",
       "      <td>...</td>\n",
       "      <td>...</td>\n",
       "      <td>...</td>\n",
       "      <td>...</td>\n",
       "    </tr>\n",
       "    <tr>\n",
       "      <th>48982586</th>\n",
       "      <td>7670</td>\n",
       "      <td>367542970</td>\n",
       "      <td>2020-04-05 04:00:17</td>\n",
       "      <td>48.7573</td>\n",
       "      <td>-122.5059</td>\n",
       "      <td>0.0</td>\n",
       "      <td>30.7</td>\n",
       "      <td>37</td>\n",
       "      <td>United States of America</td>\n",
       "      <td>178.0</td>\n",
       "      <td>719.950833</td>\n",
       "    </tr>\n",
       "    <tr>\n",
       "      <th>48982587</th>\n",
       "      <td>7670</td>\n",
       "      <td>367542970</td>\n",
       "      <td>2020-04-05 04:03:18</td>\n",
       "      <td>48.7573</td>\n",
       "      <td>-122.5059</td>\n",
       "      <td>0.0</td>\n",
       "      <td>48.2</td>\n",
       "      <td>37</td>\n",
       "      <td>United States of America</td>\n",
       "      <td>181.0</td>\n",
       "      <td>719.950833</td>\n",
       "    </tr>\n",
       "    <tr>\n",
       "      <th>48982588</th>\n",
       "      <td>7670</td>\n",
       "      <td>367542970</td>\n",
       "      <td>2020-04-05 04:06:17</td>\n",
       "      <td>48.7573</td>\n",
       "      <td>-122.5059</td>\n",
       "      <td>0.0</td>\n",
       "      <td>38.0</td>\n",
       "      <td>37</td>\n",
       "      <td>United States of America</td>\n",
       "      <td>179.0</td>\n",
       "      <td>719.950833</td>\n",
       "    </tr>\n",
       "    <tr>\n",
       "      <th>48982589</th>\n",
       "      <td>7670</td>\n",
       "      <td>367542970</td>\n",
       "      <td>2020-04-05 04:09:16</td>\n",
       "      <td>48.7574</td>\n",
       "      <td>-122.5059</td>\n",
       "      <td>0.0</td>\n",
       "      <td>31.5</td>\n",
       "      <td>37</td>\n",
       "      <td>United States of America</td>\n",
       "      <td>179.0</td>\n",
       "      <td>719.950833</td>\n",
       "    </tr>\n",
       "    <tr>\n",
       "      <th>48982590</th>\n",
       "      <td>7670</td>\n",
       "      <td>367542970</td>\n",
       "      <td>2020-04-05 04:12:17</td>\n",
       "      <td>48.7573</td>\n",
       "      <td>-122.5059</td>\n",
       "      <td>0.0</td>\n",
       "      <td>202.6</td>\n",
       "      <td>37</td>\n",
       "      <td>United States of America</td>\n",
       "      <td>1.0</td>\n",
       "      <td>NaN</td>\n",
       "    </tr>\n",
       "  </tbody>\n",
       "</table>\n",
       "<p>48982591 rows × 11 columns</p>\n",
       "</div>"
      ],
      "text/plain": [
       "          trajectory       mmsi                time      lat       lon  sog  \\\n",
       "0                  0          0 2020-04-01 00:16:56  18.4595  -66.0902  0.0   \n",
       "1                  0          0 2020-04-01 00:22:55  18.4595  -66.0902  0.1   \n",
       "2                  0          0 2020-04-01 00:28:55  18.4595  -66.0901  0.0   \n",
       "3                  0          0 2020-04-01 00:34:56  18.4595  -66.0901  0.0   \n",
       "4                  0          0 2020-04-01 00:46:56  18.4595  -66.0901  0.0   \n",
       "...              ...        ...                 ...      ...       ...  ...   \n",
       "48982586        7670  367542970 2020-04-05 04:00:17  48.7573 -122.5059  0.0   \n",
       "48982587        7670  367542970 2020-04-05 04:03:18  48.7573 -122.5059  0.0   \n",
       "48982588        7670  367542970 2020-04-05 04:06:17  48.7573 -122.5059  0.0   \n",
       "48982589        7670  367542970 2020-04-05 04:09:16  48.7574 -122.5059  0.0   \n",
       "48982590        7670  367542970 2020-04-05 04:12:17  48.7573 -122.5059  0.0   \n",
       "\n",
       "            cog  vessel_type                      flag  duration  total_time  \n",
       "0           6.0           30                         0       0.0  719.626111  \n",
       "1         188.0           30                         0     359.0  719.626111  \n",
       "2         323.2           30                         0     360.0  719.626111  \n",
       "3         229.2           30                         0     361.0  719.626111  \n",
       "4         108.6           30                         0     720.0  719.626111  \n",
       "...         ...          ...                       ...       ...         ...  \n",
       "48982586   30.7           37  United States of America     178.0  719.950833  \n",
       "48982587   48.2           37  United States of America     181.0  719.950833  \n",
       "48982588   38.0           37  United States of America     179.0  719.950833  \n",
       "48982589   31.5           37  United States of America     179.0  719.950833  \n",
       "48982590  202.6           37  United States of America       1.0         NaN  \n",
       "\n",
       "[48982591 rows x 11 columns]"
      ]
     },
     "execution_count": 15,
     "metadata": {},
     "output_type": "execute_result"
    }
   ],
   "source": [
    "df"
   ]
  },
  {
   "cell_type": "code",
   "execution_count": 18,
   "id": "e984744b",
   "metadata": {},
   "outputs": [
    {
     "data": {
      "text/plain": [
       "(538808501, 48982591)"
      ]
     },
     "execution_count": 18,
     "metadata": {},
     "output_type": "execute_result"
    }
   ],
   "source": [
    "df.size,len(df)"
   ]
  },
  {
   "cell_type": "code",
   "execution_count": 72,
   "id": "a53d6ab8",
   "metadata": {
    "scrolled": true
   },
   "outputs": [
    {
     "data": {
      "text/html": [
       "<div>\n",
       "<style scoped>\n",
       "    .dataframe tbody tr th:only-of-type {\n",
       "        vertical-align: middle;\n",
       "    }\n",
       "\n",
       "    .dataframe tbody tr th {\n",
       "        vertical-align: top;\n",
       "    }\n",
       "\n",
       "    .dataframe thead th {\n",
       "        text-align: right;\n",
       "    }\n",
       "</style>\n",
       "<table border=\"1\" class=\"dataframe\">\n",
       "  <thead>\n",
       "    <tr style=\"text-align: right;\">\n",
       "      <th></th>\n",
       "      <th>trajectory</th>\n",
       "      <th>mmsi</th>\n",
       "      <th>time</th>\n",
       "      <th>lat</th>\n",
       "      <th>lon</th>\n",
       "      <th>sog</th>\n",
       "      <th>cog</th>\n",
       "      <th>vessel_type</th>\n",
       "      <th>flag</th>\n",
       "      <th>duration</th>\n",
       "      <th>total_time</th>\n",
       "    </tr>\n",
       "  </thead>\n",
       "  <tbody>\n",
       "    <tr>\n",
       "      <th>405877</th>\n",
       "      <td>86</td>\n",
       "      <td>227194000</td>\n",
       "      <td>2020-04-01 15:55:22</td>\n",
       "      <td>14.6168</td>\n",
       "      <td>-61.5738</td>\n",
       "      <td>11.1</td>\n",
       "      <td>168.8</td>\n",
       "      <td>60</td>\n",
       "      <td>France</td>\n",
       "      <td>0.0</td>\n",
       "      <td>246.788889</td>\n",
       "    </tr>\n",
       "    <tr>\n",
       "      <th>405878</th>\n",
       "      <td>86</td>\n",
       "      <td>227194000</td>\n",
       "      <td>2020-04-01 15:56:33</td>\n",
       "      <td>14.6132</td>\n",
       "      <td>-61.5731</td>\n",
       "      <td>11.2</td>\n",
       "      <td>168.7</td>\n",
       "      <td>60</td>\n",
       "      <td>France</td>\n",
       "      <td>71.0</td>\n",
       "      <td>246.788889</td>\n",
       "    </tr>\n",
       "    <tr>\n",
       "      <th>405879</th>\n",
       "      <td>86</td>\n",
       "      <td>227194000</td>\n",
       "      <td>2020-04-01 15:57:52</td>\n",
       "      <td>14.6092</td>\n",
       "      <td>-61.5722</td>\n",
       "      <td>11.2</td>\n",
       "      <td>169.3</td>\n",
       "      <td>60</td>\n",
       "      <td>France</td>\n",
       "      <td>79.0</td>\n",
       "      <td>246.788889</td>\n",
       "    </tr>\n",
       "    <tr>\n",
       "      <th>405880</th>\n",
       "      <td>86</td>\n",
       "      <td>227194000</td>\n",
       "      <td>2020-04-01 15:59:53</td>\n",
       "      <td>14.6029</td>\n",
       "      <td>-61.5711</td>\n",
       "      <td>11.3</td>\n",
       "      <td>170.0</td>\n",
       "      <td>60</td>\n",
       "      <td>France</td>\n",
       "      <td>121.0</td>\n",
       "      <td>246.788889</td>\n",
       "    </tr>\n",
       "    <tr>\n",
       "      <th>405881</th>\n",
       "      <td>86</td>\n",
       "      <td>227194000</td>\n",
       "      <td>2020-04-01 16:00:12</td>\n",
       "      <td>14.6020</td>\n",
       "      <td>-61.5709</td>\n",
       "      <td>11.4</td>\n",
       "      <td>169.9</td>\n",
       "      <td>60</td>\n",
       "      <td>France</td>\n",
       "      <td>19.0</td>\n",
       "      <td>246.788889</td>\n",
       "    </tr>\n",
       "    <tr>\n",
       "      <th>...</th>\n",
       "      <td>...</td>\n",
       "      <td>...</td>\n",
       "      <td>...</td>\n",
       "      <td>...</td>\n",
       "      <td>...</td>\n",
       "      <td>...</td>\n",
       "      <td>...</td>\n",
       "      <td>...</td>\n",
       "      <td>...</td>\n",
       "      <td>...</td>\n",
       "      <td>...</td>\n",
       "    </tr>\n",
       "    <tr>\n",
       "      <th>48938662</th>\n",
       "      <td>7657</td>\n",
       "      <td>367540420</td>\n",
       "      <td>2020-04-30 21:08:37</td>\n",
       "      <td>43.9271</td>\n",
       "      <td>-69.2609</td>\n",
       "      <td>2.0</td>\n",
       "      <td>175.7</td>\n",
       "      <td>60</td>\n",
       "      <td>United States of America</td>\n",
       "      <td>209.0</td>\n",
       "      <td>700.718056</td>\n",
       "    </tr>\n",
       "    <tr>\n",
       "      <th>48938663</th>\n",
       "      <td>7657</td>\n",
       "      <td>367540420</td>\n",
       "      <td>2020-04-30 21:09:38</td>\n",
       "      <td>43.9264</td>\n",
       "      <td>-69.2620</td>\n",
       "      <td>4.6</td>\n",
       "      <td>239.6</td>\n",
       "      <td>60</td>\n",
       "      <td>United States of America</td>\n",
       "      <td>61.0</td>\n",
       "      <td>700.718056</td>\n",
       "    </tr>\n",
       "    <tr>\n",
       "      <th>48938664</th>\n",
       "      <td>7657</td>\n",
       "      <td>367540420</td>\n",
       "      <td>2020-04-30 21:11:08</td>\n",
       "      <td>43.9260</td>\n",
       "      <td>-69.2635</td>\n",
       "      <td>0.6</td>\n",
       "      <td>171.1</td>\n",
       "      <td>60</td>\n",
       "      <td>United States of America</td>\n",
       "      <td>90.0</td>\n",
       "      <td>700.718056</td>\n",
       "    </tr>\n",
       "    <tr>\n",
       "      <th>48938665</th>\n",
       "      <td>7657</td>\n",
       "      <td>367540420</td>\n",
       "      <td>2020-04-30 21:12:37</td>\n",
       "      <td>43.9260</td>\n",
       "      <td>-69.2634</td>\n",
       "      <td>0.0</td>\n",
       "      <td>85.2</td>\n",
       "      <td>60</td>\n",
       "      <td>United States of America</td>\n",
       "      <td>89.0</td>\n",
       "      <td>700.718056</td>\n",
       "    </tr>\n",
       "    <tr>\n",
       "      <th>48938666</th>\n",
       "      <td>7657</td>\n",
       "      <td>367540420</td>\n",
       "      <td>2020-04-30 21:13:38</td>\n",
       "      <td>43.9260</td>\n",
       "      <td>-69.2634</td>\n",
       "      <td>0.1</td>\n",
       "      <td>214.7</td>\n",
       "      <td>60</td>\n",
       "      <td>United States of America</td>\n",
       "      <td>61.0</td>\n",
       "      <td>700.718056</td>\n",
       "    </tr>\n",
       "  </tbody>\n",
       "</table>\n",
       "<p>10816917 rows × 11 columns</p>\n",
       "</div>"
      ],
      "text/plain": [
       "          trajectory       mmsi                time      lat      lon   sog  \\\n",
       "405877            86  227194000 2020-04-01 15:55:22  14.6168 -61.5738  11.1   \n",
       "405878            86  227194000 2020-04-01 15:56:33  14.6132 -61.5731  11.2   \n",
       "405879            86  227194000 2020-04-01 15:57:52  14.6092 -61.5722  11.2   \n",
       "405880            86  227194000 2020-04-01 15:59:53  14.6029 -61.5711  11.3   \n",
       "405881            86  227194000 2020-04-01 16:00:12  14.6020 -61.5709  11.4   \n",
       "...              ...        ...                 ...      ...      ...   ...   \n",
       "48938662        7657  367540420 2020-04-30 21:08:37  43.9271 -69.2609   2.0   \n",
       "48938663        7657  367540420 2020-04-30 21:09:38  43.9264 -69.2620   4.6   \n",
       "48938664        7657  367540420 2020-04-30 21:11:08  43.9260 -69.2635   0.6   \n",
       "48938665        7657  367540420 2020-04-30 21:12:37  43.9260 -69.2634   0.0   \n",
       "48938666        7657  367540420 2020-04-30 21:13:38  43.9260 -69.2634   0.1   \n",
       "\n",
       "            cog  vessel_type                      flag  duration  total_time  \n",
       "405877    168.8           60                    France       0.0  246.788889  \n",
       "405878    168.7           60                    France      71.0  246.788889  \n",
       "405879    169.3           60                    France      79.0  246.788889  \n",
       "405880    170.0           60                    France     121.0  246.788889  \n",
       "405881    169.9           60                    France      19.0  246.788889  \n",
       "...         ...          ...                       ...       ...         ...  \n",
       "48938662  175.7           60  United States of America     209.0  700.718056  \n",
       "48938663  239.6           60  United States of America      61.0  700.718056  \n",
       "48938664  171.1           60  United States of America      90.0  700.718056  \n",
       "48938665   85.2           60  United States of America      89.0  700.718056  \n",
       "48938666  214.7           60  United States of America      61.0  700.718056  \n",
       "\n",
       "[10816917 rows x 11 columns]"
      ]
     },
     "execution_count": 72,
     "metadata": {},
     "output_type": "execute_result"
    }
   ],
   "source": [
    "dataset_vessel60 = dataset[dataset['vessel_type'] == 60]\n",
    "dataset_vessel60"
   ]
  },
  {
   "cell_type": "code",
   "execution_count": null,
   "id": "c3c69b5e",
   "metadata": {},
   "outputs": [],
   "source": [
    "dataset_vessel80 = dataset[dataset['vessel_type'] == 80]\n",
    "dataset_vessel80"
   ]
  },
  {
   "cell_type": "code",
   "execution_count": 74,
   "id": "83f70e58",
   "metadata": {},
   "outputs": [
    {
     "name": "stdout",
     "output_type": "stream",
     "text": [
      "number of vessels in vessel type = 60 is 898\n"
     ]
    }
   ],
   "source": [
    "n_vessel60 = dataset_vessel60['trajectory'].nunique()\n",
    "print(f'number of vessels in vessel type = 60 is {n_vessel60}')"
   ]
  },
  {
   "cell_type": "code",
   "execution_count": 59,
   "id": "e01e6326",
   "metadata": {
    "scrolled": true
   },
   "outputs": [
    {
     "name": "stdout",
     "output_type": "stream",
     "text": [
      "number of vessels in vessel type = 80 is 522\n"
     ]
    }
   ],
   "source": [
    "n_vessel80 = dataset_vessel80['trajectory'].nunique()\n",
    "print(f'number of vessels in vessel type = 80 is {n_vessel80}')"
   ]
  },
  {
   "cell_type": "code",
   "execution_count": 69,
   "id": "a7c75b30",
   "metadata": {},
   "outputs": [
    {
     "name": "stdout",
     "output_type": "stream",
     "text": [
      "length of each trajectory in vessel type 80\n"
     ]
    },
    {
     "data": {
      "text/plain": [
       "trajectory\n",
       "4       14120\n",
       "14       6763\n",
       "15        414\n",
       "16       1402\n",
       "17      10153\n",
       "        ...  \n",
       "6864    29838\n",
       "7140     9842\n",
       "7143    11771\n",
       "7149    18194\n",
       "7502    18470\n",
       "Name: cog, Length: 522, dtype: int64"
      ]
     },
     "execution_count": 69,
     "metadata": {},
     "output_type": "execute_result"
    }
   ],
   "source": [
    "vessel80_trajs_length = dataset_vessel80.groupby('trajectory').count()['cog']\n",
    "print('length of each trajectory in vessel type 80')\n",
    "vessel80_trajs_length"
   ]
  },
  {
   "cell_type": "code",
   "execution_count": 71,
   "id": "b0661e99",
   "metadata": {},
   "outputs": [
    {
     "data": {
      "text/plain": [
       "Text(0, 0.5, 'length of trajectories of vessel type 80')"
      ]
     },
     "execution_count": 71,
     "metadata": {},
     "output_type": "execute_result"
    },
    {
     "data": {
      "image/png": "[encoded data removed]",
      "text/plain": [
       "<Figure size 432x288 with 1 Axes>"
      ]
     },
     "metadata": {
      "needs_background": "light"
     },
     "output_type": "display_data"
    }
   ],
   "source": [
    "ax = vessel80_trajs_length.plot.bar()\n",
    "ax.set_ylabel(\"length of trajectories of vessel type 80\")"
   ]
  },
  {
   "cell_type": "code",
   "execution_count": null,
   "id": "da730388",
   "metadata": {},
   "outputs": [],
   "source": [
    "vessel_type = [80,30]\n",
    "for v in vessel_type:\n",
    "    df_v = dataset[dataset['vessel_type']==v]"
   ]
  },
  {
   "cell_type": "code",
   "execution_count": null,
   "id": "bececb5e",
   "metadata": {},
   "outputs": [],
   "source": [
    "for ti in range(df.size):\n",
    "    df_traj = dataset[dataset['trajectory']==ti]\n",
    "    df_sog = df.loc[:,'sog']\n",
    "    df_sog.dropna()"
   ]
  },
  {
   "cell_type": "code",
   "execution_count": null,
   "id": "b8711b29",
   "metadata": {},
   "outputs": [],
   "source": [
    "print('vessel_type : category')\n",
    "print('vessel : samples')\n",
    "print('vessel trips : segments')\n",
    "print('the number of trips for each sample')\n",
    "print('the number of samples for each category')\n",
    "print('the length of each segment for each sample')\n",
    "print('the number of segments for each sample')\n",
    "print('max length and the min length of trips')\n",
    "print('segmentation based change in the movement')\n",
    "print('segmentation based on the duration of silent time')\n",
    "print('what are the time points at which the vessel is silent/stopped')\n"
   ]
  },
  {
   "cell_type": "code",
   "execution_count": null,
   "id": "56751118",
   "metadata": {},
   "outputs": [],
   "source": []
  }
 ],
 "metadata": {
  "kernelspec": {
   "display_name": "Python 3 (ipykernel)",
   "language": "python",
   "name": "python3"
  },
  "language_info": {
   "codemirror_mode": {
    "name": "ipython",
    "version": 3
   },
   "file_extension": ".py",
   "mimetype": "text/x-python",
   "name": "python",
   "nbconvert_exporter": "python",
   "pygments_lexer": "ipython3",
   "version": "3.9.5"
  }
 },
 "nbformat": 4,
 "nbformat_minor": 5
}
